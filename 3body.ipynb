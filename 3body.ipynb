{
 "cells": [
  {
   "cell_type": "markdown",
   "metadata": {},
   "source": [
    "# Three-body problem"
   ]
  },
  {
   "cell_type": "markdown",
   "metadata": {},
   "source": [
    "In this notebook, I implement a simple three-body simulation, which plots the movement of three orbiting bodies in 3D space."
   ]
  },
  {
   "cell_type": "code",
   "execution_count": 1,
   "metadata": {},
   "outputs": [
    {
     "data": {
      "text/plain": [
       "<contextlib.ExitStack at 0x1079cbd60>"
      ]
     },
     "execution_count": 1,
     "metadata": {},
     "output_type": "execute_result"
    }
   ],
   "source": [
    "import numpy as np\n",
    "import pandas as pd\n",
    "\n",
    "import matplotlib.pyplot as plt\n",
    "import matplotlib.animation as animation\n"
   ]
  },
  {
   "cell_type": "markdown",
   "metadata": {},
   "source": [
    "First, I define a class that records the velocity, current position, and mass of a body. The class also implements a single method that updates the current velocity and position of the body based on an acceleration vector:"
   ]
  },
  {
   "cell_type": "code",
   "execution_count": 2,
   "metadata": {},
   "outputs": [],
   "source": [
    "class body:\n",
    "    \n",
    "    def __init__(self, \n",
    "                 position = [0.,0.,0.], \n",
    "                 velocity = [0.,0.,0.], \n",
    "                 mass = 1) -> None:\n",
    "        self.position = np.array(position)\n",
    "        self.velocity = np.array(velocity)\n",
    "        self.mass = mass\n",
    "        \n",
    "    def update(self, dv):\n",
    "        self.velocity += 0.05*dv # 0.05 to smooth the simulation\n",
    "        self.position += 0.05*self.velocity"
   ]
  },
  {
   "cell_type": "markdown",
   "metadata": {},
   "source": [
    "Next, and given we will have three bodies, I define a function that calculates the system of acceleration vectors based on the current position and velocity of each body. The calculations below use the [Newtonian equations](https://arc.net/l/quote/dfvydfyi) of motion:"
   ]
  },
  {
   "cell_type": "code",
   "execution_count": 3,
   "metadata": {},
   "outputs": [],
   "source": [
    "def accelerate(p1, p2, p3, g = 9.81) -> tuple[float]:\n",
    "    a1 = -g*np.sum([p.mass*np.divide((p1.position - p.position),np.linalg.norm(p1.position - p.position)) for p in [p2, p3]],\n",
    "                   axis = 0)\n",
    "    a2 = -g*np.sum([p.mass*np.divide((p2.position - p.position),np.linalg.norm(p2.position - p.position)) for p in [p3, p1]],\n",
    "                   axis = 0)\n",
    "    a3 = -g*np.sum([p.mass*np.divide((p3.position - p.position),np.linalg.norm(p3.position - p.position)) for p in [p1, p2]],\n",
    "                   axis = 0)\n",
    "    \n",
    "    return a1, a2, a3 "
   ]
  },
  {
   "cell_type": "markdown",
   "metadata": {},
   "source": [
    "Finally, I instantiate three bodies setting (arbitrary) initial positions, zero velocities, and slightly different masses:"
   ]
  },
  {
   "cell_type": "code",
   "execution_count": 4,
   "metadata": {},
   "outputs": [],
   "source": [
    "p1 = body([1.,0.,10.], [0.,0.,0.], 1.)\n",
    "p2 = body([10.,-1.,0.], [0.,0.,0.],2.)\n",
    "p3 = body([1.,10.,-10.], [0.,0.,0.],1.3)"
   ]
  },
  {
   "cell_type": "markdown",
   "metadata": {},
   "source": [
    "## Dynamics\n",
    "\n",
    "To simulate the movement of bodies, I use `matplotlib.animate` and define a function that a) calculates the current acceleration vectors, b) updates the respective positions and velocities of each body, then c) updates the plot with the new positions:"
   ]
  },
  {
   "cell_type": "code",
   "execution_count": 5,
   "metadata": {},
   "outputs": [],
   "source": [
    "def update(frame):\n",
    "    \n",
    "    dv_1, dv_2, dv_3 = accelerate(p1,p2,p3)\n",
    "    p1.update(dv_1)\n",
    "    p2.update(dv_2)\n",
    "    p3.update(dv_3)\n",
    "    \n",
    "    # update the scatter plot in x,y,z\n",
    "    scat._offsets3d = ([p.position[0] for p in [p1,p2,p3]],\n",
    "                       [p.position[1] for p in [p1,p2,p3]],\n",
    "                       [p.position[2] for p in [p1,p2,p3]])\n",
    "    \n",
    "    return (scat)"
   ]
  },
  {
   "cell_type": "markdown",
   "metadata": {},
   "source": [
    "Finally, with this setup complete, I setup the plot space and run the simulation:"
   ]
  },
  {
   "cell_type": "code",
   "execution_count": 6,
   "metadata": {},
   "outputs": [],
   "source": [
    "fig = plt.figure(frameon=False)\n",
    "fig.set_size_inches(3,3)\n",
    "ax = fig.add_subplot(projection='3d')\n",
    "fig.subplots_adjust(left=0, bottom=0, right=1, top=1, hspace = 0, wspace = 0)\n",
    "scat = ax.scatter([p.position[0] for p in [p1,p2,p3]],\n",
    "                  [p.position[1] for p in [p1,p2,p3]],\n",
    "                  [p.position[2] for p in [p1,p2,p3]],\n",
    "                  c = ['darkorange','skyblue','darkseagreen'], \n",
    "                  alpha = 0.5,\n",
    "                  s = [p.mass*20 for p in [p1,p2,p3]])\n",
    "\n",
    "# For better formatting:\n",
    "ax.grid(False)\n",
    "ax.set_xticks([])\n",
    "ax.set_yticks([])\n",
    "ax.set_zticks([])\n",
    "zoom = 20\n",
    "ax.set(xlim=[-zoom, zoom], ylim=[-zoom, zoom], zlim=[-zoom,zoom], xlabel='', ylabel='', zlabel='')\n",
    "ax.view_init(elev=5, azim=10, roll=0)\n",
    "\n",
    "# render\n",
    "ani = animation.FuncAnimation(fig=fig, func=update, frames=600, interval=50)\n",
    "ani.save(filename=\"3body_example.gif\", writer=\"pillow\", dpi=150)\n"
   ]
  }
 ],
 "metadata": {
  "kernelspec": {
   "display_name": "base",
   "language": "python",
   "name": "python3"
  },
  "language_info": {
   "codemirror_mode": {
    "name": "ipython",
    "version": 3
   },
   "file_extension": ".py",
   "mimetype": "text/x-python",
   "name": "python",
   "nbconvert_exporter": "python",
   "pygments_lexer": "ipython3",
   "version": "3.10.6"
  }
 },
 "nbformat": 4,
 "nbformat_minor": 2
}
